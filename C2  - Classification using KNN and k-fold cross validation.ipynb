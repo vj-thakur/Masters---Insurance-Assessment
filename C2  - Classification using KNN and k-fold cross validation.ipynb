{
 "cells": [
  {
   "cell_type": "code",
   "execution_count": 5,
   "metadata": {},
   "outputs": [],
   "source": [
    "import pandas as pd\n",
    "import numpy as np\n",
    "from pandas import Series, DataFrame\n",
    "from sklearn.model_selection import train_test_split\n",
    "from sklearn.neighbors import KNeighborsClassifier\n",
    "from sklearn.model_selection import cross_val_score\n",
    "import matplotlib as plt\n",
    "%matplotlib inline"
   ]
  },
  {
   "cell_type": "code",
   "execution_count": 6,
   "metadata": {},
   "outputs": [],
   "source": [
    "PLI_train = DataFrame(pd.read_csv(\"train.csv\"))"
   ]
  },
  {
   "cell_type": "code",
   "execution_count": 7,
   "metadata": {},
   "outputs": [],
   "source": [
    "PLI_test = DataFrame(pd.read_csv(\"test.csv\"))"
   ]
  },
  {
   "cell_type": "code",
   "execution_count": 8,
   "metadata": {},
   "outputs": [],
   "source": [
    "PLI_train = PLI_train.fillna(PLI_train.median())"
   ]
  },
  {
   "cell_type": "code",
   "execution_count": 9,
   "metadata": {},
   "outputs": [],
   "source": [
    "PLI_test = PLI_test.fillna(PLI_test.median())"
   ]
  },
  {
   "cell_type": "code",
   "execution_count": 10,
   "metadata": {},
   "outputs": [],
   "source": [
    "y_train = PLI_train[\"Response\"]\n",
    "PLI_train = PLI_train.drop(['Response','Id','Product_Info_2'], axis = 1)\n",
    "PLI_test = PLI_test.drop(['Id','Product_Info_2'], axis = 1)"
   ]
  },
  {
   "cell_type": "code",
   "execution_count": 11,
   "metadata": {},
   "outputs": [],
   "source": [
    "PLI_train = PLI_train.astype(float)"
   ]
  },
  {
   "cell_type": "code",
   "execution_count": 12,
   "metadata": {},
   "outputs": [],
   "source": [
    "PLI_test = PLI_test.astype(float)"
   ]
  },
  {
   "cell_type": "markdown",
   "metadata": {},
   "source": [
    "# Breaking the train data into two sets of 70-30 or 80-20. Now run the model on the first set of train data(70 or 80%) and then test it with the remaining train data(30 or 20%). See the accuracy."
   ]
  },
  {
   "cell_type": "code",
   "execution_count": 13,
   "metadata": {},
   "outputs": [],
   "source": [
    "x_train = PLI_train\n",
    "test = PLI_test\n",
    "X_train,X_test,Y_train,Y_test = train_test_split(x_train,y_train)"
   ]
  },
  {
   "cell_type": "code",
   "execution_count": 14,
   "metadata": {},
   "outputs": [],
   "source": [
    "#linear = linear_model.LinearRegression()\n",
    "#linear.fit(X_train, Y_train)\n",
    "#predicted = linear.predict(X_test)\n",
    "#score = metrics.r2_score(Y_test,predicted)\n",
    "#print(score)"
   ]
  },
  {
   "cell_type": "markdown",
   "metadata": {},
   "source": [
    "# Let's do K-fold Cross validation with K-Nearest Neighbors."
   ]
  },
  {
   "cell_type": "code",
   "execution_count": 15,
   "metadata": {},
   "outputs": [
    {
     "name": "stdout",
     "output_type": "stream",
     "text": [
      "[0.33610238 0.3194881  0.3259991  0.32061069 0.33430624 0.33887267\n",
      " 0.33123737 0.3227038  0.32674601 0.32764428]\n",
      "0.32837106430471585\n"
     ]
    }
   ],
   "source": [
    "KNN = KNeighborsClassifier(n_neighbors = 5)\n",
    "scores = cross_val_score(KNN, X_train, Y_train, cv = 10, scoring = 'accuracy')\n",
    "print(scores)\n",
    "print(scores.mean())"
   ]
  },
  {
   "cell_type": "code",
   "execution_count": 16,
   "metadata": {},
   "outputs": [
    {
     "name": "stdout",
     "output_type": "stream",
     "text": [
      "[0.32837106430471585, 0.32837106430471585, 0.32837106430471585, 0.32837106430471585]\n"
     ]
    }
   ],
   "source": [
    "k_range = range(1,5)\n",
    "k_scores = []\n",
    "for k in k_range:\n",
    "    KNN = KNeighborsClassifier(n_neighbors = 5)\n",
    "    scores = cross_val_score(KNN, X_train, Y_train, cv= 10, scoring = 'accuracy')\n",
    "    k_scores.append(scores.mean())\n",
    "print(k_scores)"
   ]
  },
  {
   "cell_type": "code",
   "execution_count": 17,
   "metadata": {},
   "outputs": [
    {
     "name": "stdout",
     "output_type": "stream",
     "text": [
      "[0.3661877  0.35832959 0.36012573 0.35002245 0.36686125 0.35930833\n",
      " 0.36941388 0.34987649 0.35796093 0.3588592 ]\n",
      "0.3596945536331112\n"
     ]
    }
   ],
   "source": [
    "KNN_2 = KNeighborsClassifier(n_neighbors = 10)\n",
    "scores = cross_val_score(KNN_2, X_train, Y_train, cv = 10, scoring = 'accuracy')\n",
    "print(scores)\n",
    "print(scores.mean())"
   ]
  },
  {
   "cell_type": "code",
   "execution_count": 18,
   "metadata": {},
   "outputs": [
    {
     "name": "stdout",
     "output_type": "stream",
     "text": [
      "[0.38235294 0.38190391 0.3778626  0.37965873 0.39380332 0.37862115\n",
      " 0.38737929 0.38401078 0.38670559 0.37884572]\n",
      "0.38311440418819276\n"
     ]
    }
   ],
   "source": [
    "KNN_3 = KNeighborsClassifier(n_neighbors = 50)\n",
    "scores = cross_val_score(KNN_3, X_train, Y_train, cv = 10, scoring = 'accuracy')\n",
    "print(scores)\n",
    "print(scores.mean())"
   ]
  },
  {
   "cell_type": "code",
   "execution_count": 19,
   "metadata": {},
   "outputs": [
    {
     "name": "stdout",
     "output_type": "stream",
     "text": [
      "[0.36865739 0.37337225 0.37314773 0.37090256 0.37763808 0.36874018\n",
      " 0.37704918 0.36896474 0.37143499 0.36806647]\n",
      "0.37179735643372364\n"
     ]
    }
   ],
   "source": [
    "KNN_4 = KNeighborsClassifier(n_neighbors = 200)\n",
    "scores = cross_val_score(KNN_4, X_train, Y_train, cv = 10, scoring = 'accuracy')\n",
    "print(scores)\n",
    "print(scores.mean())"
   ]
  },
  {
   "cell_type": "code",
   "execution_count": 20,
   "metadata": {},
   "outputs": [
    {
     "name": "stdout",
     "output_type": "stream",
     "text": [
      "[0.38212842 0.3843736  0.37539291 0.37292322 0.38953749 0.37682461\n",
      " 0.37996856 0.3810914  0.38356164 0.37210869]\n",
      "0.3797910542188326\n"
     ]
    }
   ],
   "source": [
    "KNN_5 = KNeighborsClassifier(n_neighbors = 75, algorithm = 'brute')\n",
    "scores = cross_val_score(KNN_5, X_train, Y_train, cv = 10, scoring = 'accuracy')\n",
    "print(scores)\n",
    "print(scores.mean())"
   ]
  },
  {
   "cell_type": "code",
   "execution_count": 21,
   "metadata": {},
   "outputs": [
    {
     "name": "stdout",
     "output_type": "stream",
     "text": [
      "[0.38414908 0.38123035 0.38078132 0.37314773 0.39043556 0.37368066\n",
      " 0.38221424 0.37727375 0.3804177  0.37368066]\n",
      "0.379701106129569\n"
     ]
    }
   ],
   "source": [
    "KNN_6 = KNeighborsClassifier(n_neighbors = 100, algorithm = 'brute')\n",
    "scores = cross_val_score(KNN_6, X_train, Y_train, cv = 10, scoring = 'accuracy')\n",
    "print(scores)\n",
    "print(scores.mean())"
   ]
  },
  {
   "cell_type": "code",
   "execution_count": 22,
   "metadata": {},
   "outputs": [
    {
     "data": {
      "text/plain": [
       "KNeighborsClassifier(algorithm='brute', n_neighbors=100)"
      ]
     },
     "execution_count": 22,
     "metadata": {},
     "output_type": "execute_result"
    }
   ],
   "source": [
    "KNN_6.fit(x_train, y_train)"
   ]
  },
  {
   "cell_type": "code",
   "execution_count": 23,
   "metadata": {},
   "outputs": [],
   "source": [
    "Predicted = KNN_6.predict(test)"
   ]
  },
  {
   "cell_type": "code",
   "execution_count": 24,
   "metadata": {},
   "outputs": [
    {
     "name": "stdout",
     "output_type": "stream",
     "text": [
      "[8 8 6 ... 8 8 4]\n"
     ]
    }
   ],
   "source": [
    "print(Predicted)"
   ]
  },
  {
   "cell_type": "code",
   "execution_count": null,
   "metadata": {},
   "outputs": [],
   "source": []
  },
  {
   "cell_type": "code",
   "execution_count": null,
   "metadata": {},
   "outputs": [],
   "source": []
  },
  {
   "cell_type": "code",
   "execution_count": null,
   "metadata": {},
   "outputs": [],
   "source": []
  }
 ],
 "metadata": {
  "kernelspec": {
   "display_name": "Python 3",
   "language": "python",
   "name": "python3"
  },
  "language_info": {
   "codemirror_mode": {
    "name": "ipython",
    "version": 3
   },
   "file_extension": ".py",
   "mimetype": "text/x-python",
   "name": "python",
   "nbconvert_exporter": "python",
   "pygments_lexer": "ipython3",
   "version": "3.8.5"
  }
 },
 "nbformat": 4,
 "nbformat_minor": 4
}
